{
 "cells": [
  {
   "cell_type": "code",
   "execution_count": 1,
   "metadata": {},
   "outputs": [],
   "source": [
    "#Imports\n",
    "from nn import nn\n",
    "import numpy as np\n",
    "import sklearn\n",
    "from typing import List, Dict, Tuple, Union\n",
    "from numpy.typing import ArrayLike\n",
    "from ucimlrepo import fetch_ucirepo \n",
    "import matplotlib.pyplot as plt"
   ]
  },
  {
   "cell_type": "code",
   "execution_count": 2,
   "metadata": {},
   "outputs": [],
   "source": [
    "#Get digits dataset\n",
    "optical_recognition_of_handwritten_digits = fetch_ucirepo(id=80)\n",
    "X = optical_recognition_of_handwritten_digits.data.features \n",
    "y = optical_recognition_of_handwritten_digits.data.targets\n",
    "y_onehot=np.zeros((y.shape[0],10))\n",
    "y_onehot[np.arange(y.shape[0]),y[\"class\"]]=1"
   ]
  },
  {
   "cell_type": "code",
   "execution_count": 3,
   "metadata": {},
   "outputs": [],
   "source": [
    "# Sample 80/20 train/test split\n",
    "train_idx=np.random.randint(0,len(X)-1,int(len(X)*0.8))\n",
    "train_X=np.array(X.iloc[list(train_idx),:])\n",
    "train_y=np.array(y_onehot[train_idx])\n",
    "test_idx=set(range(len(X)))-set(train_idx)\n",
    "test_X=np.array(X.iloc[list(test_idx),:])\n",
    "test_y=np.array(y_onehot[list(test_idx)])"
   ]
  },
  {
   "cell_type": "code",
   "execution_count": 10,
   "metadata": {},
   "outputs": [],
   "source": [
    "#Initialize NN\n",
    "NNet=nn.NeuralNetwork(\n",
    "    nn_arch=[{'input_dim':64,'output_dim':16,'activation':\"sigmoid\"},{'input_dim':16,'output_dim':64,'activation':\"relu\"},{'input_dim':64,'output_dim':10,\"activation\":\"sigmoid\"}],\n",
    "    lr=0.0005,\n",
    "    seed=37,\n",
    "    batch_size=50,\n",
    "    epochs=100,\n",
    "    loss_function=\"BCE\"\n",
    ")"
   ]
  },
  {
   "cell_type": "code",
   "execution_count": 11,
   "metadata": {},
   "outputs": [
    {
     "name": "stdout",
     "output_type": "stream",
     "text": [
      "Done with iteration 0. Train error: 0.99 Val error: 0.98\n",
      "Done with iteration 1. Train error: 0.98 Val error: 0.97\n",
      "Done with iteration 2. Train error: 0.96 Val error: 0.95\n",
      "Done with iteration 3. Train error: 0.95 Val error: 0.94\n",
      "Done with iteration 4. Train error: 0.94 Val error: 0.93\n",
      "Done with iteration 5. Train error: 0.93 Val error: 0.92\n",
      "Done with iteration 6. Train error: 0.92 Val error: 0.91\n",
      "Done with iteration 7. Train error: 0.91 Val error: 0.9\n",
      "Done with iteration 8. Train error: 0.89 Val error: 0.88\n",
      "Done with iteration 9. Train error: 0.89 Val error: 0.87\n",
      "Done with iteration 10. Train error: 0.88 Val error: 0.86\n",
      "Done with iteration 11. Train error: 0.87 Val error: 0.85\n",
      "Done with iteration 12. Train error: 0.85 Val error: 0.84\n",
      "Done with iteration 13. Train error: 0.84 Val error: 0.83\n",
      "Done with iteration 14. Train error: 0.83 Val error: 0.82\n",
      "Done with iteration 15. Train error: 0.82 Val error: 0.8\n",
      "Done with iteration 16. Train error: 0.81 Val error: 0.79\n",
      "Done with iteration 17. Train error: 0.79 Val error: 0.78\n",
      "Done with iteration 18. Train error: 0.79 Val error: 0.77\n",
      "Done with iteration 19. Train error: 0.76 Val error: 0.76\n",
      "Done with iteration 20. Train error: 0.76 Val error: 0.74\n",
      "Done with iteration 21. Train error: 0.75 Val error: 0.73\n",
      "Done with iteration 22. Train error: 0.73 Val error: 0.72\n",
      "Done with iteration 23. Train error: 0.72 Val error: 0.71\n",
      "Done with iteration 24. Train error: 0.71 Val error: 0.7\n",
      "Done with iteration 25. Train error: 0.69 Val error: 0.68\n",
      "Done with iteration 26. Train error: 0.69 Val error: 0.67\n",
      "Done with iteration 27. Train error: 0.67 Val error: 0.66\n",
      "Done with iteration 28. Train error: 0.66 Val error: 0.65\n",
      "Done with iteration 29. Train error: 0.64 Val error: 0.64\n",
      "Done with iteration 30. Train error: 0.63 Val error: 0.62\n",
      "Done with iteration 31. Train error: 0.63 Val error: 0.61\n",
      "Done with iteration 32. Train error: 0.61 Val error: 0.6\n",
      "Done with iteration 33. Train error: 0.6 Val error: 0.59\n",
      "Done with iteration 34. Train error: 0.59 Val error: 0.58\n",
      "Done with iteration 35. Train error: 0.58 Val error: 0.57\n",
      "Done with iteration 36. Train error: 0.57 Val error: 0.56\n",
      "Done with iteration 37. Train error: 0.56 Val error: 0.55\n",
      "Done with iteration 38. Train error: 0.56 Val error: 0.54\n",
      "Done with iteration 39. Train error: 0.54 Val error: 0.54\n",
      "Done with iteration 40. Train error: 0.53 Val error: 0.53\n",
      "Done with iteration 41. Train error: 0.54 Val error: 0.52\n",
      "Done with iteration 42. Train error: 0.53 Val error: 0.52\n",
      "Done with iteration 43. Train error: 0.51 Val error: 0.51\n",
      "Done with iteration 44. Train error: 0.51 Val error: 0.5\n",
      "Done with iteration 45. Train error: 0.5 Val error: 0.5\n",
      "Done with iteration 46. Train error: 0.5 Val error: 0.5\n",
      "Done with iteration 47. Train error: 0.49 Val error: 0.49\n",
      "Done with iteration 48. Train error: 0.49 Val error: 0.49\n",
      "Done with iteration 49. Train error: 0.48 Val error: 0.48\n",
      "Done with iteration 50. Train error: 0.49 Val error: 0.48\n",
      "Done with iteration 51. Train error: 0.48 Val error: 0.48\n",
      "Done with iteration 52. Train error: 0.49 Val error: 0.48\n",
      "Done with iteration 53. Train error: 0.48 Val error: 0.48\n",
      "Done with iteration 54. Train error: 0.48 Val error: 0.47\n",
      "Done with iteration 55. Train error: 0.47 Val error: 0.47\n",
      "Done with iteration 56. Train error: 0.47 Val error: 0.47\n",
      "Done with iteration 57. Train error: 0.47 Val error: 0.47\n",
      "Done with iteration 58. Train error: 0.47 Val error: 0.47\n",
      "Done with iteration 59. Train error: 0.46 Val error: 0.47\n",
      "Done with iteration 60. Train error: 0.47 Val error: 0.47\n",
      "Done with iteration 61. Train error: 0.46 Val error: 0.47\n",
      "Done with iteration 62. Train error: 0.47 Val error: 0.47\n",
      "Done with iteration 63. Train error: 0.47 Val error: 0.47\n",
      "Done with iteration 64. Train error: 0.47 Val error: 0.46\n",
      "Done with iteration 65. Train error: 0.46 Val error: 0.46\n",
      "Done with iteration 66. Train error: 0.47 Val error: 0.46\n",
      "Done with iteration 67. Train error: 0.46 Val error: 0.46\n",
      "Done with iteration 68. Train error: 0.47 Val error: 0.46\n",
      "Done with iteration 69. Train error: 0.46 Val error: 0.46\n",
      "Done with iteration 70. Train error: 0.47 Val error: 0.46\n",
      "Done with iteration 71. Train error: 0.46 Val error: 0.46\n",
      "Done with iteration 72. Train error: 0.46 Val error: 0.46\n",
      "Done with iteration 73. Train error: 0.46 Val error: 0.46\n",
      "Done with iteration 74. Train error: 0.46 Val error: 0.46\n",
      "Done with iteration 75. Train error: 0.46 Val error: 0.46\n",
      "Done with iteration 76. Train error: 0.46 Val error: 0.46\n",
      "Done with iteration 77. Train error: 0.46 Val error: 0.46\n",
      "Done with iteration 78. Train error: 0.46 Val error: 0.46\n",
      "Done with iteration 79. Train error: 0.46 Val error: 0.46\n",
      "Done with iteration 80. Train error: 0.46 Val error: 0.46\n",
      "Done with iteration 81. Train error: 0.46 Val error: 0.46\n",
      "Done with iteration 82. Train error: 0.46 Val error: 0.46\n",
      "Done with iteration 83. Train error: 0.46 Val error: 0.46\n",
      "Done with iteration 84. Train error: 0.45 Val error: 0.46\n",
      "Done with iteration 85. Train error: 0.46 Val error: 0.46\n",
      "Done with iteration 86. Train error: 0.46 Val error: 0.46\n",
      "Done with iteration 87. Train error: 0.46 Val error: 0.46\n",
      "Done with iteration 88. Train error: 0.46 Val error: 0.46\n",
      "Done with iteration 89. Train error: 0.46 Val error: 0.46\n",
      "Done with iteration 90. Train error: 0.46 Val error: 0.46\n",
      "Done with iteration 91. Train error: 0.46 Val error: 0.46\n",
      "Done with iteration 92. Train error: 0.46 Val error: 0.46\n",
      "Done with iteration 93. Train error: 0.46 Val error: 0.46\n",
      "Done with iteration 94. Train error: 0.46 Val error: 0.46\n",
      "Done with iteration 95. Train error: 0.46 Val error: 0.46\n",
      "Done with iteration 96. Train error: 0.45 Val error: 0.46\n",
      "Done with iteration 97. Train error: 0.46 Val error: 0.46\n",
      "Done with iteration 98. Train error: 0.45 Val error: 0.46\n",
      "Done with iteration 99. Train error: 0.45 Val error: 0.46\n"
     ]
    }
   ],
   "source": [
    "# Train NN\n",
    "(train_error,val_error)=NNet.fit(train_X,train_y,test_X,test_y)"
   ]
  },
  {
   "cell_type": "code",
   "execution_count": 12,
   "metadata": {},
   "outputs": [
    {
     "data": {
      "text/plain": [
       "<matplotlib.legend.Legend at 0x1c8b0e90df0>"
      ]
     },
     "execution_count": 12,
     "metadata": {},
     "output_type": "execute_result"
    },
    {
     "data": {
      "image/png": "[encoded data removed]",
      "text/plain": [
       "<Figure size 640x480 with 1 Axes>"
      ]
     },
     "metadata": {},
     "output_type": "display_data"
    }
   ],
   "source": [
    "plt.plot(range(NNet._epochs),list(train_error))\n",
    "plt.plot(range(NNet._epochs),list(val_error))\n",
    "plt.legend([\"training error\",\"validation error\"])"
   ]
  }
 ],
 "metadata": {
  "kernelspec": {
   "display_name": "Python 3 (ipykernel)",
   "language": "python",
   "name": "python3"
  },
  "language_info": {
   "codemirror_mode": {
    "name": "ipython",
    "version": 3
   },
   "file_extension": ".py",
   "mimetype": "text/x-python",
   "name": "python",
   "nbconvert_exporter": "python",
   "pygments_lexer": "ipython3",
   "version": "3.9.13"
  }
 },
 "nbformat": 4,
 "nbformat_minor": 2
}
